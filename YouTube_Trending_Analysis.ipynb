{
 "cells": [
  {
   "cell_type": "code",
   "execution_count": null,
   "id": "373cc538",
   "metadata": {},
   "outputs": [],
   "source": [
    "# YouTube Trending Video Analysis (India)\n",
    "# Author: Vedant Bhusari\n",
    "# Tools: Python (Pandas, Matplotlib, Seaborn, TextBlob)\n",
    "\n",
    "import pandas as pd\n",
    "import numpy as np\n",
    "import matplotlib.pyplot as plt\n",
    "import seaborn as sns\n",
    "from textblob import TextBlob\n",
    "\n",
    "# 1️⃣ Load the dataset\n",
    "df = pd.read_csv(\"INvideos_sample.csv\")\n",
    "print(\"Rows:\", df.shape)\n",
    "\n",
    "# 2️⃣ Clean the data\n",
    "df.drop_duplicates(inplace=True)\n",
    "df.dropna(inplace=True)\n",
    "\n",
    "# 3️⃣ Basic info\n",
    "print(\"Top 5 columns:\\n\", df.head())\n",
    "\n",
    "# 4️⃣ Top categories\n",
    "top_cats = df['category_id'].value_counts().head(5)\n",
    "top_cats.plot(kind='bar', color='skyblue', title='Top 5 Video Categories')\n",
    "plt.ylabel('Number of Videos')\n",
    "plt.show()\n",
    "\n",
    "# 5️⃣ Correlation\n",
    "corr = df[['views', 'likes', 'comment_count']].corr()\n",
    "sns.heatmap(corr, annot=True, cmap='coolwarm')\n",
    "plt.title(\"Correlation between Views, Likes, Comments\")\n",
    "plt.show()\n",
    "\n",
    "# 6️⃣ Simple sentiment analysis on titles\n",
    "df['sentiment'] = df['title'].apply(lambda x: TextBlob(str(x)).sentiment.polarity)\n",
    "print(\"Average Sentiment:\", round(df['sentiment'].mean(), 2))\n",
    "\n",
    "# 7️⃣ Insights\n",
    "print(\"✅ Entertainment & Music dominate trending videos.\")\n",
    "print(\"✅ Views and Likes are strongly correlated.\")\n",
    "print(\"✅ Most titles have neutral or positive sentiment.\")\n"
   ]
  }
 ],
 "metadata": {
  "kernelspec": {
   "display_name": "Python 3",
   "language": "python",
   "name": "python3"
  },
  "language_info": {
   "name": "python",
   "version": "3.13.4"
  }
 },
 "nbformat": 4,
 "nbformat_minor": 5
}
